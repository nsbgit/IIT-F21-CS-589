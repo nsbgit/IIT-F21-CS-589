{
 "cells": [
  {
   "cell_type": "markdown",
   "metadata": {},
   "source": [
    "# Demo of off-the-shelf and custom sentiment models\n"
   ]
  },
  {
   "cell_type": "code",
   "execution_count": null,
   "metadata": {},
   "outputs": [],
   "source": [
    "import json\n",
    "import operator\n",
    "import pandas as pd\n",
    "from sklearn.feature_extraction.text import TfidfVectorizer\n",
    "from sklearn.linear_model import LogisticRegression\n",
    "import boto3\n",
    "import os"
   ]
  },
  {
   "cell_type": "code",
   "execution_count": null,
   "metadata": {},
   "outputs": [],
   "source": [
    "del os.environ[\"HTTP_PROXY\"]\n",
    "del os.environ[\"HTTPS_PROXY\"]"
   ]
  },
  {
   "cell_type": "markdown",
   "metadata": {},
   "source": [
    "### Demo off-the-shelf sentiment analysis from Amazon Comprehend"
   ]
  },
  {
   "cell_type": "code",
   "execution_count": null,
   "metadata": {},
   "outputs": [],
   "source": [
    "# Need to set environment variables for AWS credentials\n",
    "#  `AWS_ACCESS_KEY_ID`\n",
    "#  `AWS_SECRET_ACCESS_KEY`\n",
    "comprehend = boto3.client(service_name='comprehend', \n",
    "                          region_name='us-east-1')\n",
    "                \n",
    "text = \"It is raining today in Seattle\"\n",
    "print(json.dumps(comprehend.detect_sentiment(Text=text, \n",
    "                                             LanguageCode='en'), \n",
    "                 sort_keys=True, \n",
    "                 indent=4))"
   ]
  },
  {
   "cell_type": "code",
   "execution_count": null,
   "metadata": {},
   "outputs": [],
   "source": [
    "def print_aws_sentiment_score(x):\n",
    "    response = comprehend.detect_sentiment(Text=text, \n",
    "                                           LanguageCode='en')\n",
    "    score_data = {x: float(y) for x, y in response[\"SentimentScore\"].items()}\n",
    "    for cat, score in sorted(score_data.items(), key=operator.itemgetter(1), reverse=True):\n",
    "        print(f\"{cat:10s}: {score:0.3f}\")"
   ]
  },
  {
   "cell_type": "markdown",
   "metadata": {},
   "source": [
    "**Some examples**"
   ]
  },
  {
   "cell_type": "code",
   "execution_count": null,
   "metadata": {},
   "outputs": [],
   "source": [
    "text = \"I can't believe I wasted ten dollars on such a boring movie\"\n",
    "print_aws_sentiment_score(text)"
   ]
  },
  {
   "cell_type": "code",
   "execution_count": null,
   "metadata": {},
   "outputs": [],
   "source": [
    "text = \"The only thing I enjoyed about this movie was the popcorn\"\n",
    "print_aws_sentiment_score(text)"
   ]
  },
  {
   "cell_type": "code",
   "execution_count": null,
   "metadata": {},
   "outputs": [],
   "source": [
    "text = \"Your service is horrible; could you just transfer me to someone more helpful?\"\n",
    "print_aws_sentiment_score(text)"
   ]
  },
  {
   "cell_type": "code",
   "execution_count": null,
   "metadata": {},
   "outputs": [],
   "source": [
    "text = \"Could I speak to a supervisor?  I'm going in circles with you.\"\n",
    "print_aws_sentiment_score(text)"
   ]
  },
  {
   "cell_type": "code",
   "execution_count": null,
   "metadata": {},
   "outputs": [],
   "source": [
    "text = \"If this doesn't get addressed I will have to take legal action\"\n",
    "print_aws_sentiment_score(text)"
   ]
  },
  {
   "cell_type": "code",
   "execution_count": null,
   "metadata": {},
   "outputs": [],
   "source": [
    "text = \"I read my explanation of benefits and it doesn't say anything about pre-approval\"\n",
    "print_aws_sentiment_score(text)"
   ]
  },
  {
   "cell_type": "code",
   "execution_count": null,
   "metadata": {},
   "outputs": [],
   "source": [
    "text = \"My copayment gets higher every year\"\n",
    "print_aws_sentiment_score(text)"
   ]
  },
  {
   "cell_type": "markdown",
   "metadata": {},
   "source": [
    "### Comparison to domain-specific sentiment"
   ]
  },
  {
   "cell_type": "markdown",
   "metadata": {},
   "source": [
    "#### Build sentiment model on Hw3 data"
   ]
  },
  {
   "cell_type": "code",
   "execution_count": null,
   "metadata": {},
   "outputs": [],
   "source": [
    "DATA_DIR = \"hw3_data\"\n",
    "from naive_bayes import IMDBReader\n",
    "reader = IMDBReader(f\"{DATA_DIR}/train\")"
   ]
  },
  {
   "cell_type": "markdown",
   "metadata": {},
   "source": [
    "**Read data**"
   ]
  },
  {
   "cell_type": "code",
   "execution_count": null,
   "metadata": {},
   "outputs": [],
   "source": [
    "sentence_label_pairs = []\n",
    "for text in reader.get_texts(\"pos\"):\n",
    "    sentence_label_pairs.append((text, 1))\n",
    "for text in reader.get_texts(\"neg\"):\n",
    "    sentence_label_pairs.append((text, 0))"
   ]
  },
  {
   "cell_type": "code",
   "execution_count": null,
   "metadata": {},
   "outputs": [],
   "source": [
    "len (sentence_label_pairs)"
   ]
  },
  {
   "cell_type": "markdown",
   "metadata": {},
   "source": [
    "**Vectorize**"
   ]
  },
  {
   "cell_type": "code",
   "execution_count": null,
   "metadata": {},
   "outputs": [],
   "source": [
    "vectorizer = TfidfVectorizer(min_df=5, stop_words=\"english\")\n",
    "vectorizer = vectorizer.fit([t[0].text for t in sentence_label_pairs])\n",
    "X = vectorizer.transform([t[0].text for t in sentence_label_pairs])\n",
    "y = [t[1] for t in sentence_label_pairs]"
   ]
  },
  {
   "cell_type": "code",
   "execution_count": null,
   "metadata": {},
   "outputs": [],
   "source": [
    "X.shape"
   ]
  },
  {
   "cell_type": "markdown",
   "metadata": {},
   "source": [
    "**Train model**"
   ]
  },
  {
   "cell_type": "code",
   "execution_count": null,
   "metadata": {},
   "outputs": [],
   "source": [
    "lr_model = LogisticRegression(penalty=\"l2\", C=1.0, solver=\"lbfgs\").fit(X, y)"
   ]
  },
  {
   "cell_type": "code",
   "execution_count": null,
   "metadata": {},
   "outputs": [],
   "source": [
    "def print_lr_sentiment_score(x):\n",
    "    p = lr_model.predict_proba(vectorizer.transform([x]))[0]\n",
    "    print(f\"Positive: {p[1]:0.3f}\")\n",
    "    print(f\"Negative: {p[0]:0.3f}\")"
   ]
  },
  {
   "cell_type": "markdown",
   "metadata": {},
   "source": [
    "**Test examples**"
   ]
  },
  {
   "cell_type": "code",
   "execution_count": null,
   "metadata": {},
   "outputs": [],
   "source": [
    "text = \"I can't believe I wasted ten dollars on such a boring movie\"\n",
    "print_lr_sentiment_score(text)"
   ]
  },
  {
   "cell_type": "code",
   "execution_count": null,
   "metadata": {},
   "outputs": [],
   "source": [
    "text = \"The only thing I enjoyed about this movie was the popcorn\"\n",
    "print_lr_sentiment_score(text)"
   ]
  },
  {
   "cell_type": "code",
   "execution_count": null,
   "metadata": {},
   "outputs": [],
   "source": [
    "text = \"Your service is horrible; could you just transfer me to someone more helpful?\"\n",
    "print_lr_sentiment_score(text)"
   ]
  },
  {
   "cell_type": "code",
   "execution_count": null,
   "metadata": {},
   "outputs": [],
   "source": [
    "text = \"Could I speak to a supervisor?  I'm going in circles with you.\"\n",
    "print_lr_sentiment_score(text)"
   ]
  },
  {
   "cell_type": "code",
   "execution_count": null,
   "metadata": {},
   "outputs": [],
   "source": [
    "text = \"If this doesn't get addressed I will have to take legal action\"\n",
    "print_lr_sentiment_score(text)"
   ]
  },
  {
   "cell_type": "code",
   "execution_count": null,
   "metadata": {},
   "outputs": [],
   "source": [
    "text = \"I read my explanation of benefits and it doesn't say anything about pre-approval\"\n",
    "print_lr_sentiment_score(text)"
   ]
  },
  {
   "cell_type": "code",
   "execution_count": null,
   "metadata": {},
   "outputs": [],
   "source": [
    "text = \"My copayment gets higher every year\"\n",
    "print_lr_sentiment_score(text)"
   ]
  },
  {
   "cell_type": "markdown",
   "metadata": {},
   "source": [
    "**Sample words associated with negative sentiment**"
   ]
  },
  {
   "cell_type": "code",
   "execution_count": null,
   "metadata": {},
   "outputs": [],
   "source": [
    "lr_model.coef_.shape"
   ]
  },
  {
   "cell_type": "code",
   "execution_count": null,
   "metadata": {},
   "outputs": [],
   "source": [
    "import numpy as np"
   ]
  },
  {
   "cell_type": "code",
   "execution_count": null,
   "metadata": {},
   "outputs": [],
   "source": [
    "vocab = {idx: w for w, idx in vectorizer.vocabulary_.items()}\n",
    "top_features = np.argsort(lr_model.coef_[0])[0:5000]\n",
    "coefs = lr_model.coef_[0,top_features]\n",
    "words = [vocab[x] for x in top_features]"
   ]
  },
  {
   "cell_type": "markdown",
   "metadata": {},
   "source": [
    "*Most strongly negative terms*"
   ]
  },
  {
   "cell_type": "code",
   "execution_count": null,
   "metadata": {},
   "outputs": [],
   "source": [
    "for i in range(10):\n",
    "    print(f\"{words[i]:10s}: {coefs[i]:0.3f}\")"
   ]
  },
  {
   "cell_type": "markdown",
   "metadata": {},
   "source": [
    "*Random set of words correlated with negative sentiment*"
   ]
  },
  {
   "cell_type": "code",
   "execution_count": null,
   "metadata": {},
   "outputs": [],
   "source": [
    "for i in sorted(np.random.randint(0, len(coefs), 20)):\n",
    "    print(f\"{i:4d} -- {words[i]:10s}: {coefs[i]:0.3f}\")"
   ]
  },
  {
   "cell_type": "code",
   "execution_count": null,
   "metadata": {},
   "outputs": [],
   "source": []
  }
 ],
 "metadata": {
  "kernelspec": {
   "display_name": "Python 3",
   "language": "python",
   "name": "python3"
  },
  "language_info": {
   "codemirror_mode": {
    "name": "ipython",
    "version": 3
   },
   "file_extension": ".py",
   "mimetype": "text/x-python",
   "name": "python",
   "nbconvert_exporter": "python",
   "pygments_lexer": "ipython3",
   "version": "3.8.5"
  }
 },
 "nbformat": 4,
 "nbformat_minor": 2
}
